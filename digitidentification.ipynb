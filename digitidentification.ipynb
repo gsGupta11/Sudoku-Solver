{
 "cells": [
  {
   "cell_type": "code",
   "execution_count": 8,
   "metadata": {
    "colab": {},
    "colab_type": "code",
    "id": "hWpTyzgFmfg6"
   },
   "outputs": [
    {
     "name": "stderr",
     "output_type": "stream",
     "text": [
      "Using TensorFlow backend.\n"
     ]
    },
    {
     "name": "stdout",
     "output_type": "stream",
     "text": [
      "2.2.0\n"
     ]
    }
   ],
   "source": [
    "import tensorflow as tf\n",
    "from keras.preprocessing.image import ImageDataGenerator\n",
    "import numpy as np\n",
    "from keras.preprocessing import image\n",
    "print(tf.__version__)"
   ]
  },
  {
   "cell_type": "code",
   "execution_count": 9,
   "metadata": {
    "colab": {},
    "colab_type": "code",
    "id": "brQq9tCDmiZc"
   },
   "outputs": [
    {
     "name": "stdout",
     "output_type": "stream",
     "text": [
      "Found 40988 images belonging to 10 classes.\n"
     ]
    }
   ],
   "source": [
    "traindatagen = ImageDataGenerator(\n",
    "    rescale=1. / 255,\n",
    "    shear_range=0.2,\n",
    "    zoom_range=0.2,\n",
    "    horizontal_flip=True\n",
    ")\n",
    "\n",
    "training_set = traindatagen.flow_from_directory(\n",
    "    \"./trainingSet\",\n",
    "    target_size=(64, 64),\n",
    "    batch_size=32,\n",
    "    class_mode=\"categorical\"\n",
    ")"
   ]
  },
  {
   "cell_type": "code",
   "execution_count": 10,
   "metadata": {
    "colab": {},
    "colab_type": "code",
    "id": "Ty5SB0Pzmllv"
   },
   "outputs": [
    {
     "name": "stdout",
     "output_type": "stream",
     "text": [
      "Found 1012 images belonging to 10 classes.\n"
     ]
    }
   ],
   "source": [
    "testdatagen = ImageDataGenerator(rescale=1. / 255)\n",
    "test_set = testdatagen.flow_from_directory(\n",
    "    \"./testSet\",\n",
    "    target_size=(64, 64),\n",
    "    batch_size=32,\n",
    "    class_mode=\"categorical\"\n",
    ")"
   ]
  },
  {
   "cell_type": "code",
   "execution_count": 11,
   "metadata": {
    "colab": {},
    "colab_type": "code",
    "id": "uc-8CvklmpQw"
   },
   "outputs": [],
   "source": [
    "cnn = tf.keras.models.Sequential()\n",
    "cnn.add(tf.keras.layers.Conv2D(filters=32, kernel_size=3, activation=\"relu\", input_shape=[64, 64, 3]))\n",
    "cnn.add(tf.keras.layers.MaxPool2D(pool_size=2, strides=2))"
   ]
  },
  {
   "cell_type": "code",
   "execution_count": 12,
   "metadata": {
    "colab": {},
    "colab_type": "code",
    "id": "L5rLfikSmp0t"
   },
   "outputs": [],
   "source": [
    "cnn.add(tf.keras.layers.Conv2D(filters=32, kernel_size=3, activation=\"relu\"))\n",
    "cnn.add(tf.keras.layers.MaxPool2D(pool_size=2, strides=2))"
   ]
  },
  {
   "cell_type": "code",
   "execution_count": 13,
   "metadata": {
    "colab": {},
    "colab_type": "code",
    "id": "zCxQbnfBmr8w"
   },
   "outputs": [],
   "source": [
    "cnn.add(tf.keras.layers.Conv2D(filters=32, kernel_size=3, activation=\"relu\"))\n",
    "cnn.add(tf.keras.layers.MaxPool2D(pool_size=2, strides=2))"
   ]
  },
  {
   "cell_type": "code",
   "execution_count": 14,
   "metadata": {
    "colab": {},
    "colab_type": "code",
    "id": "OJsSQRUYmuFJ"
   },
   "outputs": [],
   "source": [
    "cnn.add(tf.keras.layers.Flatten())\n"
   ]
  },
  {
   "cell_type": "code",
   "execution_count": 15,
   "metadata": {
    "colab": {},
    "colab_type": "code",
    "id": "gCtXKrdHmvnb"
   },
   "outputs": [],
   "source": [
    "cnn.add(tf.keras.layers.Dense(units=128, activation=\"relu\"))\n",
    "cnn.add(tf.keras.layers.Dense(units=128, activation=\"relu\"))"
   ]
  },
  {
   "cell_type": "code",
   "execution_count": 16,
   "metadata": {
    "colab": {},
    "colab_type": "code",
    "id": "7UtRSQqSmxOg"
   },
   "outputs": [],
   "source": [
    "cnn.add(tf.keras.layers.Dense(units=10, activation=\"softmax\"))"
   ]
  },
  {
   "cell_type": "code",
   "execution_count": 18,
   "metadata": {
    "colab": {},
    "colab_type": "code",
    "id": "mRsWbcIdmy0f"
   },
   "outputs": [
    {
     "name": "stdout",
     "output_type": "stream",
     "text": [
      "Epoch 1/10\n",
      "1281/1281 [==============================] - 231s 180ms/step - loss: 0.0818 - accuracy: 0.9745 - val_loss: 0.0692 - val_accuracy: 0.9812\n",
      "Epoch 2/10\n",
      "1281/1281 [==============================] - 527s 411ms/step - loss: 0.0654 - accuracy: 0.9795 - val_loss: 0.0954 - val_accuracy: 0.9733\n",
      "Epoch 3/10\n",
      "1281/1281 [==============================] - 493s 385ms/step - loss: 0.0595 - accuracy: 0.9812 - val_loss: 0.0656 - val_accuracy: 0.9812\n",
      "Epoch 4/10\n",
      "1281/1281 [==============================] - 324s 253ms/step - loss: 0.0528 - accuracy: 0.9829 - val_loss: 0.0580 - val_accuracy: 0.9822\n",
      "Epoch 5/10\n",
      "1281/1281 [==============================] - 264s 206ms/step - loss: 0.0456 - accuracy: 0.9853 - val_loss: 0.0750 - val_accuracy: 0.9822\n",
      "Epoch 6/10\n",
      "1281/1281 [==============================] - 201s 157ms/step - loss: 0.0447 - accuracy: 0.9862 - val_loss: 0.0571 - val_accuracy: 0.9822\n",
      "Epoch 7/10\n",
      "1281/1281 [==============================] - 208s 162ms/step - loss: 0.0384 - accuracy: 0.9879 - val_loss: 0.0807 - val_accuracy: 0.9783\n",
      "Epoch 8/10\n",
      "1281/1281 [==============================] - 200s 156ms/step - loss: 0.0367 - accuracy: 0.9883 - val_loss: 0.0805 - val_accuracy: 0.9822\n",
      "Epoch 9/10\n",
      "1281/1281 [==============================] - 199s 156ms/step - loss: 0.0353 - accuracy: 0.9893 - val_loss: 0.0502 - val_accuracy: 0.9832\n",
      "Epoch 10/10\n",
      "1281/1281 [==============================] - 199s 156ms/step - loss: 0.0331 - accuracy: 0.9891 - val_loss: 0.0620 - val_accuracy: 0.9852\n"
     ]
    },
    {
     "data": {
      "text/plain": [
       "<tensorflow.python.keras.callbacks.History at 0x7fe4c46910b8>"
      ]
     },
     "execution_count": 18,
     "metadata": {},
     "output_type": "execute_result"
    }
   ],
   "source": [
    "cnn.compile(optimizer=\"adam\", loss=\"categorical_crossentropy\", metrics=[\"accuracy\"])\n",
    "cnn.fit(x=training_set, validation_data=test_set, epochs=10)"
   ]
  },
  {
   "cell_type": "code",
   "execution_count": 60,
   "metadata": {},
   "outputs": [],
   "source": [
    "from keras.models import model_from_json"
   ]
  },
  {
   "cell_type": "code",
   "execution_count": 61,
   "metadata": {},
   "outputs": [
    {
     "name": "stdout",
     "output_type": "stream",
     "text": [
      "Saved model to disk\n"
     ]
    }
   ],
   "source": [
    "model_json = cnn.to_json()\n",
    "with open(\"model.json\", \"w\") as json_file:\n",
    "    json_file.write(model_json)\n",
    "cnn.save_weights(\"model.h5\")\n",
    "print(\"Saved model to disk\")"
   ]
  },
  {
   "cell_type": "code",
   "execution_count": 62,
   "metadata": {},
   "outputs": [
    {
     "name": "stdout",
     "output_type": "stream",
     "text": [
      "Loaded model from disk\n"
     ]
    }
   ],
   "source": [
    "json_file = open('model.json', 'r')\n",
    "loaded_model_json = json_file.read()\n",
    "json_file.close()\n",
    "loaded_model = tf.keras.models.model_from_json(loaded_model_json)\n",
    "loaded_model.load_weights(\"model.h5\")\n",
    "print(\"Loaded model from disk\")"
   ]
  },
  {
   "cell_type": "code",
   "execution_count": 66,
   "metadata": {},
   "outputs": [
    {
     "name": "stdout",
     "output_type": "stream",
     "text": [
      "[[0. 0. 0. 0. 0. 1. 0. 0. 0. 0.]]\n"
     ]
    }
   ],
   "source": [
    "import numpy as np\n",
    "test_image = image.load_img(\"./testSet/5/img_162.jpg\",target_size=(64,64))\n",
    "test_image = image.img_to_array(test_image)\n",
    "test_image = np.expand_dims(test_image,axis=0)\n",
    "result = loaded_model.predict(test_image)\n",
    "print(result)"
   ]
  },
  {
   "cell_type": "code",
   "execution_count": null,
   "metadata": {},
   "outputs": [],
   "source": []
  }
 ],
 "metadata": {
  "colab": {
   "name": "Untitled6.ipynb",
   "provenance": []
  },
  "kernelspec": {
   "display_name": "Python 3",
   "language": "python",
   "name": "python3"
  },
  "language_info": {
   "codemirror_mode": {
    "name": "ipython",
    "version": 3
   },
   "file_extension": ".py",
   "mimetype": "text/x-python",
   "name": "python",
   "nbconvert_exporter": "python",
   "pygments_lexer": "ipython3",
   "version": "3.6.9"
  }
 },
 "nbformat": 4,
 "nbformat_minor": 1
}
