{
 "cells": [
  {
   "cell_type": "code",
   "execution_count": 1,
   "metadata": {
    "colab": {},
    "colab_type": "code",
    "id": "hWpTyzgFmfg6"
   },
   "outputs": [
    {
     "name": "stderr",
     "output_type": "stream",
     "text": [
      "Using TensorFlow backend.\n"
     ]
    },
    {
     "name": "stdout",
     "output_type": "stream",
     "text": [
      "2.2.0\n"
     ]
    }
   ],
   "source": [
    "import tensorflow as tf\n",
    "from keras.preprocessing.image import ImageDataGenerator\n",
    "import numpy as np\n",
    "from keras.preprocessing import image\n",
    "print(tf.__version__)"
   ]
  },
  {
   "cell_type": "code",
   "execution_count": 2,
   "metadata": {
    "colab": {},
    "colab_type": "code",
    "id": "brQq9tCDmiZc"
   },
   "outputs": [
    {
     "name": "stdout",
     "output_type": "stream",
     "text": [
      "Found 10160 images belonging to 10 classes.\n"
     ]
    }
   ],
   "source": [
    "traindatagen = ImageDataGenerator(\n",
    "    rescale=1. / 255,\n",
    "    shear_range=0.2,\n",
    "    zoom_range=0.2,\n",
    "    horizontal_flip=True\n",
    ")\n",
    "\n",
    "training_set = traindatagen.flow_from_directory(\n",
    "    \"./finData\",\n",
    "    target_size=(64, 64),\n",
    "    batch_size=32,\n",
    "    class_mode=\"categorical\"\n",
    ")"
   ]
  },
  {
   "cell_type": "code",
   "execution_count": 3,
   "metadata": {
    "colab": {},
    "colab_type": "code",
    "id": "Ty5SB0Pzmllv"
   },
   "outputs": [],
   "source": [
    "# testdatagen = ImageDataGenerator(rescale=1. / 255)\n",
    "# test_set = testdatagen.flow_from_directory(\n",
    "#     \"./testSet\",\n",
    "#     target_size=(64, 64),\n",
    "#     batch_size=32,\n",
    "#     class_mode=\"categorical\"\n",
    "# )"
   ]
  },
  {
   "cell_type": "code",
   "execution_count": 4,
   "metadata": {
    "colab": {},
    "colab_type": "code",
    "id": "uc-8CvklmpQw"
   },
   "outputs": [],
   "source": [
    "cnn = tf.keras.models.Sequential()\n",
    "cnn.add(tf.keras.layers.Conv2D(filters=32, kernel_size=3, activation=\"relu\", input_shape=[64, 64, 3]))\n",
    "cnn.add(tf.keras.layers.MaxPool2D(pool_size=2, strides=2))"
   ]
  },
  {
   "cell_type": "code",
   "execution_count": 5,
   "metadata": {
    "colab": {},
    "colab_type": "code",
    "id": "L5rLfikSmp0t"
   },
   "outputs": [],
   "source": [
    "cnn.add(tf.keras.layers.Conv2D(filters=32, kernel_size=3, activation=\"relu\"))\n",
    "cnn.add(tf.keras.layers.MaxPool2D(pool_size=2, strides=2))"
   ]
  },
  {
   "cell_type": "code",
   "execution_count": 6,
   "metadata": {
    "colab": {},
    "colab_type": "code",
    "id": "zCxQbnfBmr8w"
   },
   "outputs": [],
   "source": [
    "cnn.add(tf.keras.layers.Conv2D(filters=32, kernel_size=3, activation=\"relu\"))\n",
    "cnn.add(tf.keras.layers.MaxPool2D(pool_size=2, strides=2))\n",
    "\n",
    "cnn.add(tf.keras.layers.Conv2D(filters=32, kernel_size=3, activation=\"relu\"))\n",
    "cnn.add(tf.keras.layers.MaxPool2D(pool_size=2, strides=2))"
   ]
  },
  {
   "cell_type": "code",
   "execution_count": 7,
   "metadata": {
    "colab": {},
    "colab_type": "code",
    "id": "OJsSQRUYmuFJ"
   },
   "outputs": [],
   "source": [
    "cnn.add(tf.keras.layers.Flatten())"
   ]
  },
  {
   "cell_type": "code",
   "execution_count": 8,
   "metadata": {
    "colab": {},
    "colab_type": "code",
    "id": "gCtXKrdHmvnb"
   },
   "outputs": [],
   "source": [
    "cnn.add(tf.keras.layers.Dense(units=128, activation=\"relu\"))\n",
    "cnn.add(tf.keras.layers.Dense(units=128, activation=\"relu\"))\n",
    "cnn.add(tf.keras.layers.Dense(units=128, activation=\"relu\"))\n",
    "cnn.add(tf.keras.layers.Dense(units=128, activation=\"relu\"))"
   ]
  },
  {
   "cell_type": "code",
   "execution_count": 9,
   "metadata": {
    "colab": {},
    "colab_type": "code",
    "id": "7UtRSQqSmxOg"
   },
   "outputs": [],
   "source": [
    "cnn.add(tf.keras.layers.Dense(units=10, activation=\"softmax\"))"
   ]
  },
  {
   "cell_type": "code",
   "execution_count": 10,
   "metadata": {
    "colab": {},
    "colab_type": "code",
    "id": "mRsWbcIdmy0f"
   },
   "outputs": [
    {
     "name": "stdout",
     "output_type": "stream",
     "text": [
      "Epoch 1/35\n",
      "318/318 [==============================] - 31s 97ms/step - loss: 0.6696 - accuracy: 0.7702\n",
      "Epoch 2/35\n",
      "318/318 [==============================] - 30s 93ms/step - loss: 0.1573 - accuracy: 0.9504\n",
      "Epoch 3/35\n",
      "318/318 [==============================] - 30s 94ms/step - loss: 0.1109 - accuracy: 0.9661\n",
      "Epoch 4/35\n",
      "318/318 [==============================] - 30s 94ms/step - loss: 0.0748 - accuracy: 0.9748\n",
      "Epoch 5/35\n",
      "318/318 [==============================] - 30s 96ms/step - loss: 0.0817 - accuracy: 0.9732\n",
      "Epoch 6/35\n",
      "318/318 [==============================] - 30s 95ms/step - loss: 0.0620 - accuracy: 0.9796\n",
      "Epoch 7/35\n",
      "318/318 [==============================] - 30s 94ms/step - loss: 0.0475 - accuracy: 0.9849\n",
      "Epoch 8/35\n",
      "318/318 [==============================] - 30s 95ms/step - loss: 0.0502 - accuracy: 0.9838\n",
      "Epoch 9/35\n",
      "318/318 [==============================] - 30s 94ms/step - loss: 0.0398 - accuracy: 0.9877\n",
      "Epoch 10/35\n",
      "318/318 [==============================] - 30s 95ms/step - loss: 0.0457 - accuracy: 0.9862\n",
      "Epoch 11/35\n",
      "318/318 [==============================] - 30s 95ms/step - loss: 0.0326 - accuracy: 0.9898\n",
      "Epoch 12/35\n",
      "318/318 [==============================] - 30s 95ms/step - loss: 0.0439 - accuracy: 0.9869\n",
      "Epoch 13/35\n",
      "318/318 [==============================] - 30s 95ms/step - loss: 0.0322 - accuracy: 0.9890\n",
      "Epoch 14/35\n",
      "318/318 [==============================] - 30s 95ms/step - loss: 0.0329 - accuracy: 0.9898\n",
      "Epoch 15/35\n",
      "318/318 [==============================] - 31s 96ms/step - loss: 0.0302 - accuracy: 0.9915\n",
      "Epoch 16/35\n",
      "318/318 [==============================] - 31s 97ms/step - loss: 0.0299 - accuracy: 0.9909\n",
      "Epoch 17/35\n",
      "318/318 [==============================] - 30s 95ms/step - loss: 0.0294 - accuracy: 0.9916\n",
      "Epoch 18/35\n",
      "318/318 [==============================] - 30s 95ms/step - loss: 0.0187 - accuracy: 0.9938\n",
      "Epoch 19/35\n",
      "318/318 [==============================] - 31s 99ms/step - loss: 0.0322 - accuracy: 0.9909\n",
      "Epoch 20/35\n",
      "318/318 [==============================] - 33s 104ms/step - loss: 0.0196 - accuracy: 0.9939\n",
      "Epoch 21/35\n",
      "318/318 [==============================] - 30s 95ms/step - loss: 0.0237 - accuracy: 0.9933\n",
      "Epoch 22/35\n",
      "318/318 [==============================] - 31s 97ms/step - loss: 0.0258 - accuracy: 0.9924\n",
      "Epoch 23/35\n",
      "318/318 [==============================] - 30s 95ms/step - loss: 0.0221 - accuracy: 0.9937\n",
      "Epoch 24/35\n",
      "318/318 [==============================] - 30s 96ms/step - loss: 0.0256 - accuracy: 0.9925\n",
      "Epoch 25/35\n",
      "318/318 [==============================] - 30s 96ms/step - loss: 0.0262 - accuracy: 0.9930\n",
      "Epoch 26/35\n",
      "318/318 [==============================] - 30s 96ms/step - loss: 0.0157 - accuracy: 0.9953\n",
      "Epoch 27/35\n",
      "318/318 [==============================] - 31s 96ms/step - loss: 0.0236 - accuracy: 0.9934\n",
      "Epoch 28/35\n",
      "318/318 [==============================] - 30s 95ms/step - loss: 0.0182 - accuracy: 0.9946\n",
      "Epoch 29/35\n",
      "318/318 [==============================] - 30s 95ms/step - loss: 0.0278 - accuracy: 0.9918\n",
      "Epoch 30/35\n",
      "318/318 [==============================] - 30s 95ms/step - loss: 0.0252 - accuracy: 0.9927\n",
      "Epoch 31/35\n",
      "318/318 [==============================] - 30s 95ms/step - loss: 0.0198 - accuracy: 0.9947\n",
      "Epoch 32/35\n",
      "318/318 [==============================] - 30s 96ms/step - loss: 0.0157 - accuracy: 0.9956\n",
      "Epoch 33/35\n",
      "318/318 [==============================] - 30s 96ms/step - loss: 0.0121 - accuracy: 0.9963\n",
      "Epoch 34/35\n",
      "318/318 [==============================] - 30s 96ms/step - loss: 0.0194 - accuracy: 0.9950\n",
      "Epoch 35/35\n",
      "318/318 [==============================] - 31s 96ms/step - loss: 0.0193 - accuracy: 0.9947\n"
     ]
    },
    {
     "data": {
      "text/plain": [
       "<tensorflow.python.keras.callbacks.History at 0x7f90248f7128>"
      ]
     },
     "execution_count": 10,
     "metadata": {},
     "output_type": "execute_result"
    }
   ],
   "source": [
    "cnn.compile(optimizer=\"adam\", loss=\"categorical_crossentropy\", metrics=[\"accuracy\"])\n",
    "cnn.fit(x=training_set, epochs=35)"
   ]
  },
  {
   "cell_type": "code",
   "execution_count": 11,
   "metadata": {},
   "outputs": [],
   "source": [
    "from keras.models import model_from_json"
   ]
  },
  {
   "cell_type": "code",
   "execution_count": 12,
   "metadata": {},
   "outputs": [
    {
     "name": "stdout",
     "output_type": "stream",
     "text": [
      "Saved model to disk\n"
     ]
    }
   ],
   "source": [
    "model_json = cnn.to_json()\n",
    "with open(\"final.json\", \"w\") as json_file:\n",
    "    json_file.write(model_json)\n",
    "cnn.save_weights(\"final.h5\")\n",
    "print(\"Saved model to disk\")"
   ]
  },
  {
   "cell_type": "code",
   "execution_count": 13,
   "metadata": {},
   "outputs": [
    {
     "name": "stdout",
     "output_type": "stream",
     "text": [
      "Loaded model from disk\n"
     ]
    }
   ],
   "source": [
    "json_file = open('final.json', 'r')\n",
    "loaded_model_json = json_file.read()\n",
    "json_file.close()\n",
    "loaded_model = tf.keras.models.model_from_json(loaded_model_json)\n",
    "loaded_model.load_weights(\"final.h5\")\n",
    "print(\"Loaded model from disk\")"
   ]
  },
  {
   "cell_type": "code",
   "execution_count": 14,
   "metadata": {},
   "outputs": [
    {
     "name": "stdout",
     "output_type": "stream",
     "text": [
      "[[0. 1. 0. 0. 0. 0. 0. 0. 0. 0.]]\n"
     ]
    }
   ],
   "source": [
    "import numpy as np\n",
    "test_image = image.load_img(\"./testSet/1/test.png\",target_size=(64,64))\n",
    "test_image = image.img_to_array(test_image)\n",
    "test_image = np.expand_dims(test_image,axis=0)\n",
    "result = loaded_model.predict(test_image)\n",
    "print(result)"
   ]
  },
  {
   "cell_type": "code",
   "execution_count": 16,
   "metadata": {},
   "outputs": [
    {
     "name": "stdout",
     "output_type": "stream",
     "text": [
      "{'0': 0, '1': 1, '2': 2, '3': 3, '4': 4, '5': 5, '6': 6, '7': 7, '8': 8, '9': 9}\n"
     ]
    }
   ],
   "source": [
    "print(training_set.class_indices)"
   ]
  },
  {
   "cell_type": "code",
   "execution_count": null,
   "metadata": {},
   "outputs": [],
   "source": []
  }
 ],
 "metadata": {
  "colab": {
   "name": "Untitled6.ipynb",
   "provenance": []
  },
  "kernelspec": {
   "display_name": "Python 3",
   "language": "python",
   "name": "python3"
  },
  "language_info": {
   "codemirror_mode": {
    "name": "ipython",
    "version": 3
   },
   "file_extension": ".py",
   "mimetype": "text/x-python",
   "name": "python",
   "nbconvert_exporter": "python",
   "pygments_lexer": "ipython3",
   "version": "3.6.9"
  }
 },
 "nbformat": 4,
 "nbformat_minor": 1
}
